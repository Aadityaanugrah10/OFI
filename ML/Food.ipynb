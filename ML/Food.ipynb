{
  "nbformat": 4,
  "nbformat_minor": 0,
  "metadata": {
    "colab": {
      "name": "Food.ipynb",
      "provenance": [],
      "collapsed_sections": []
    },
    "kernelspec": {
      "name": "python3",
      "display_name": "Python 3"
    },
    "language_info": {
      "name": "python"
    }
  },
  "cells": [
    {
      "cell_type": "code",
      "execution_count": null,
      "metadata": {
        "id": "QKKXFBRWyXy5"
      },
      "outputs": [],
      "source": [
        "import os\n",
        "import tensorflow as tf\n",
        "from tensorflow import keras"
      ]
    },
    {
      "cell_type": "code",
      "source": [
        "import zipfile\n",
        "\n",
        "local_zip = './drive/MyDrive/indonesian_food.zip'\n",
        "\n",
        "zip_ref = zipfile.ZipFile(local_zip, 'r')\n",
        "\n",
        "zip_ref.extractall('./data')\n",
        "zip_ref.close()"
      ],
      "metadata": {
        "id": "c1FbixanypiH"
      },
      "execution_count": null,
      "outputs": []
    },
    {
      "cell_type": "code",
      "source": [
        "train_dir = os.path.join('./data/indonesian food', 'train')\n",
        "validation_dir = os.path.join('./data/indonesian food', 'validation')\n",
        "test_dir = os.path.join('./data/indonesian food', 'test')"
      ],
      "metadata": {
        "id": "l_jTeC7Tzxjg"
      },
      "execution_count": null,
      "outputs": []
    },
    {
      "cell_type": "code",
      "source": [
        "from tensorflow.keras.preprocessing.image import ImageDataGenerator\n",
        "\n",
        "train_datagen = ImageDataGenerator(rescale = 1.0/255,\n",
        "                                   shear_range=0.2,\n",
        "                                   rotation_range=30,\n",
        "                                   zoom_range=0.2,\n",
        "                                  horizontal_flip=True\n",
        "                                   )\n",
        "\n",
        "test_datagen  = ImageDataGenerator(rescale = 1.0/255,\n",
        "                                   shear_range=0.2,\n",
        "                                   rotation_range=30,\n",
        "                                   zoom_range=0.2,\n",
        "                                  horizontal_flip=True\n",
        "                                   )\n",
        "\n",
        "train_generator = train_datagen.flow_from_directory(train_dir,\n",
        "                                                    batch_size=20,\n",
        "                                                    class_mode='categorical',\n",
        "                                                    target_size=(150, 150))     \n",
        "\n",
        "validation_generator =  test_datagen.flow_from_directory(validation_dir,\n",
        "                                                         batch_size=20,\n",
        "                                                         class_mode  = 'categorical',\n",
        "                                                         target_size=(150, 150))"
      ],
      "metadata": {
        "colab": {
          "base_uri": "https://localhost:8080/"
        },
        "id": "8pgGBTro0pIg",
        "outputId": "08a686c8-7cf8-40d2-b203-c022dc054300"
      },
      "execution_count": null,
      "outputs": [
        {
          "output_type": "stream",
          "name": "stdout",
          "text": [
            "Found 2075 images belonging to 13 classes.\n",
            "Found 260 images belonging to 13 classes.\n"
          ]
        }
      ]
    },
    {
      "cell_type": "code",
      "source": [
        "model = tf.keras.models.Sequential([\n",
        "    tf.keras.layers.Conv2D(64, (3,3), padding='same', activation='relu', input_shape=(150, 150, 3)),\n",
        "    tf.keras.layers.MaxPooling2D(2,2),\n",
        "    tf.keras.layers.Dropout(0.2),\n",
        "    tf.keras.layers.Conv2D(128, (3,3), padding='same', activation='relu'),\n",
        "    tf.keras.layers.MaxPooling2D(2,2),\n",
        "    tf.keras.layers.Dropout(0.2),\n",
        "    tf.keras.layers.Conv2D(256, (3,3), padding='same', activation='relu'),\n",
        "    tf.keras.layers.MaxPooling2D(2,2),\n",
        "    tf.keras.layers.Dropout(0.2),\n",
        "    tf.keras.layers.Flatten(),\n",
        "    tf.keras.layers.Dense(512, activation='relu'),\n",
        "    tf.keras.layers.Dropout(0.5),\n",
        "    tf.keras.layers.Dense(13, activation='softmax')\n",
        "])\n",
        "\n",
        "model.summary()\n",
        "\n",
        "from tensorflow.keras.optimizers import RMSprop\n",
        "\n",
        "model.compile(tf.keras.optimizers.Adam(learning_rate=0.0001),\n",
        "              loss='categorical_crossentropy',\n",
        "              metrics = ['accuracy'])"
      ],
      "metadata": {
        "colab": {
          "base_uri": "https://localhost:8080/"
        },
        "id": "l202O5lS7EgX",
        "outputId": "f9b5d07c-c271-49b4-9363-860db2a5ce3b"
      },
      "execution_count": null,
      "outputs": [
        {
          "output_type": "stream",
          "name": "stdout",
          "text": [
            "Model: \"sequential_34\"\n",
            "_________________________________________________________________\n",
            " Layer (type)                Output Shape              Param #   \n",
            "=================================================================\n",
            " conv2d_99 (Conv2D)          (None, 150, 150, 64)      1792      \n",
            "                                                                 \n",
            " max_pooling2d_89 (MaxPoolin  (None, 75, 75, 64)       0         \n",
            " g2D)                                                            \n",
            "                                                                 \n",
            " dropout_110 (Dropout)       (None, 75, 75, 64)        0         \n",
            "                                                                 \n",
            " conv2d_100 (Conv2D)         (None, 75, 75, 128)       73856     \n",
            "                                                                 \n",
            " max_pooling2d_90 (MaxPoolin  (None, 37, 37, 128)      0         \n",
            " g2D)                                                            \n",
            "                                                                 \n",
            " dropout_111 (Dropout)       (None, 37, 37, 128)       0         \n",
            "                                                                 \n",
            " conv2d_101 (Conv2D)         (None, 37, 37, 256)       295168    \n",
            "                                                                 \n",
            " max_pooling2d_91 (MaxPoolin  (None, 18, 18, 256)      0         \n",
            " g2D)                                                            \n",
            "                                                                 \n",
            " dropout_112 (Dropout)       (None, 18, 18, 256)       0         \n",
            "                                                                 \n",
            " flatten_34 (Flatten)        (None, 82944)             0         \n",
            "                                                                 \n",
            " dense_68 (Dense)            (None, 512)               42467840  \n",
            "                                                                 \n",
            " dropout_113 (Dropout)       (None, 512)               0         \n",
            "                                                                 \n",
            " dense_69 (Dense)            (None, 13)                6669      \n",
            "                                                                 \n",
            "=================================================================\n",
            "Total params: 42,845,325\n",
            "Trainable params: 42,845,325\n",
            "Non-trainable params: 0\n",
            "_________________________________________________________________\n"
          ]
        }
      ]
    },
    {
      "cell_type": "code",
      "source": [
        "from keras.callbacks import EarlyStopping\n",
        "early = EarlyStopping(monitor='val_loss', min_delta=0, patience=3, verbose=1, mode='auto')\n",
        "\n",
        "history = model.fit(train_generator,\n",
        "                    validation_data=validation_generator,\n",
        "                    epochs=100,\n",
        "                    verbose=1,\n",
        "                    callbacks=early)"
      ],
      "metadata": {
        "colab": {
          "base_uri": "https://localhost:8080/"
        },
        "id": "ewdm0URL7LR7",
        "outputId": "1ab54e4a-481f-4938-962d-69e89fed2576"
      },
      "execution_count": null,
      "outputs": [
        {
          "output_type": "stream",
          "name": "stdout",
          "text": [
            "Epoch 1/100\n",
            "104/104 [==============================] - 343s 3s/step - loss: 2.4974 - accuracy: 0.1335 - val_loss: 2.2828 - val_accuracy: 0.2500\n",
            "Epoch 2/100\n",
            "104/104 [==============================] - 339s 3s/step - loss: 2.1652 - accuracy: 0.2414 - val_loss: 2.0807 - val_accuracy: 0.3308\n",
            "Epoch 3/100\n",
            "104/104 [==============================] - 336s 3s/step - loss: 1.9791 - accuracy: 0.3176 - val_loss: 1.9314 - val_accuracy: 0.3192\n",
            "Epoch 4/100\n",
            "104/104 [==============================] - 336s 3s/step - loss: 1.8918 - accuracy: 0.3533 - val_loss: 1.8414 - val_accuracy: 0.3769\n",
            "Epoch 5/100\n",
            "104/104 [==============================] - 340s 3s/step - loss: 1.8029 - accuracy: 0.3812 - val_loss: 1.7147 - val_accuracy: 0.3846\n",
            "Epoch 6/100\n",
            "104/104 [==============================] - 336s 3s/step - loss: 1.7399 - accuracy: 0.4034 - val_loss: 1.7663 - val_accuracy: 0.3577\n",
            "Epoch 7/100\n",
            " 68/104 [==================>...........] - ETA: 1:51 - loss: 1.6920 - accuracy: 0.4236"
          ]
        }
      ]
    },
    {
      "cell_type": "code",
      "source": [
        "%matplotlib inline\n",
        "import matplotlib.pyplot as plt\n",
        "\n",
        "#-----------------------------------------------------------\n",
        "# Retrieve a list of list results on training and test data\n",
        "# sets for each training epoch\n",
        "#-----------------------------------------------------------\n",
        "acc      = history.history[     'accuracy' ]\n",
        "val_acc  = history.history[ 'val_accuracy' ]\n",
        "loss     = history.history[    'loss' ]\n",
        "val_loss = history.history['val_loss' ]\n",
        "\n",
        "epochs   = range(len(acc)) # Get number of epochs\n",
        "\n",
        "#------------------------------------------------\n",
        "# Plot training and validation accuracy per epoch\n",
        "#------------------------------------------------\n",
        "plt.plot  ( epochs,     acc, label='Training')\n",
        "plt.plot  ( epochs, val_acc, label='Validation')\n",
        "plt.title ('Training and validation accuracy')\n",
        "plt.legend()\n",
        "plt.figure()\n",
        "\n",
        "#------------------------------------------------\n",
        "# Plot training and validation loss per epoch\n",
        "#------------------------------------------------\n",
        "plt.plot  ( epochs,     loss, label='Training')\n",
        "plt.plot  ( epochs, val_loss, label='Validation')\n",
        "plt.legend()\n",
        "plt.title ('Training and validation loss')"
      ],
      "metadata": {
        "colab": {
          "base_uri": "https://localhost:8080/",
          "height": 563
        },
        "id": "ovIfxTjuPVeI",
        "outputId": "731199d9-1204-41e8-f833-fcfc1ab95b51"
      },
      "execution_count": null,
      "outputs": [
        {
          "output_type": "execute_result",
          "data": {
            "text/plain": [
              "Text(0.5, 1.0, 'Training and validation loss')"
            ]
          },
          "metadata": {},
          "execution_count": 98
        },
        {
          "output_type": "display_data",
          "data": {
            "text/plain": [
              "<Figure size 432x288 with 1 Axes>"
            ],
            "image/png": "[encoded data removed]"
          },
          "metadata": {
            "needs_background": "light"
          }
        },
        {
          "output_type": "display_data",
          "data": {
            "text/plain": [
              "<Figure size 432x288 with 1 Axes>"
            ],
            "image/png": "[encoded data removed]"
          },
          "metadata": {
            "needs_background": "light"
          }
        }
      ]
    },
    {
      "cell_type": "code",
      "source": [
        "#Training\n",
        "train_kue_dadar_gulung_dir = os.path.join(train_dir, 'kue_dadar_gulung')\n",
        "train_kue_kastengel_dir = os.path.join(train_dir, 'kue_kastengel')\n",
        "train_kue_klepon_dir = os.path.join(train_dir, 'kue_klepon')\n",
        "train_kue_lapis_dir = os.path.join(train_dir, 'kue_lapis')\n",
        "train_kue_lumpur_dir = os.path.join(train_dir, 'kue_lumpur')\n",
        "train_kue_putri_salju_dir = os.path.join(train_dir, 'kue_putri_salju')\n",
        "train_kue_risoles_dir = os.path.join(train_dir, 'kue_risoles')\n",
        "train_kue_serabi_dir = os.path.join(train_dir, 'kue_serabi')\n",
        "train_bakso_dir = os.path.join(train_dir, 'bakso')\n",
        "train_gudeg_dir = os.path.join(train_dir, 'gudeg')\n",
        "train_sate_dir = os.path.join(train_dir, 'sate')\n",
        "train_gado_dir = os.path.join(train_dir, 'gado')\n",
        "train_rendang_dir = os.path.join(train_dir, 'rendang')\n",
        "\n",
        "#Validation\n",
        "validation_kue_dadar_gulung_dir = os.path.join(validation_dir, 'kue_dadar_gulung')\n",
        "validation_kue_kastengel_dir = os.path.join(validation_dir, 'kue_kastengel')\n",
        "validation_kue_klepon_dir = os.path.join(validation_dir, 'kue_klepon')\n",
        "validation_kue_lapis_dir = os.path.join(validation_dir, 'kue_lapis')\n",
        "validation_kue_lumpur_dir = os.path.join(validation_dir, 'kue_lumpur')\n",
        "validation_kue_putri_salju_dir = os.path.join(validation_dir, 'kue_putri_salju')\n",
        "validation_kue_risoles_dir = os.path.join(validation_dir, 'kue_risoles')\n",
        "validation_kue_serabi_dir = os.path.join(validation_dir, 'kue_serabi')"
      ],
      "metadata": {
        "id": "g1fh2xcu2WNE"
      },
      "execution_count": null,
      "outputs": []
    },
    {
      "cell_type": "code",
      "source": [
        "print('total training kue lumpur images :', len(os.listdir(train_kue_dadar_gulung_dir) ))\n",
        "print('total training kue lumpur images :', len(os.listdir(train_kue_kastengel_dir) ))\n",
        "print('total training kue lumpur images :', len(os.listdir(train_kue_klepon_dir) ))\n",
        "print('total training kue lumpur images :', len(os.listdir(train_kue_lapis_dir) ))\n",
        "print('total training kue lumpur images :', len(os.listdir(train_kue_lumpur_dir) ))\n",
        "print('total training kue lumpur images :', len(os.listdir(train_kue_putri_salju_dir) ))\n",
        "print('total training kue lumpur images :', len(os.listdir(train_kue_risoles_dir) ))\n",
        "print('total training kue lumpur images :', len(os.listdir(train_kue_serabi_dir) ))\n",
        "print('total training bakso images :', len(os.listdir(train_bakso_dir) ))\n",
        "print('total training kue lumpur images :', len(os.listdir(train_gudeg_dir) ))\n",
        "print('total training kue lumpur images :', len(os.listdir(train_sate_dir) ))\n",
        "print('total training kue lumpur images :', len(os.listdir(train_gado_dir) ))\n",
        "print('total training kue lumpur images :', len(os.listdir(train_rendang_dir) ))\n",
        "\n",
        "print('total training kue lumpur images :', len(os.listdir(validation_kue_dadar_gulung_dir) ))\n",
        "print('total training kue lumpur images :', len(os.listdir(validation_kue_kastengel_dir) ))\n",
        "print('total training kue lumpur images :', len(os.listdir(validation_kue_klepon_dir) ))\n",
        "print('total training kue lumpur images :', len(os.listdir(validation_kue_lapis_dir) ))\n",
        "print('total training kue lumpur images :', len(os.listdir(validation_kue_lumpur_dir) ))\n",
        "print('total training kue lumpur images :', len(os.listdir(validation_kue_putri_salju_dir) ))\n",
        "print('total training kue lumpur images :', len(os.listdir(validation_kue_risoles_dir) ))\n",
        "print('total training kue lumpur images :', len(os.listdir(validation_kue_serabi_dir) ))"
      ],
      "metadata": {
        "colab": {
          "base_uri": "https://localhost:8080/"
        },
        "id": "tb0VmRQr2XNu",
        "outputId": "4bca83de-8a5b-450c-d2d3-b27a033d564e"
      },
      "execution_count": null,
      "outputs": [
        {
          "output_type": "stream",
          "name": "stdout",
          "text": [
            "total training kue lumpur images : 160\n",
            "total training kue lumpur images : 160\n",
            "total training kue lumpur images : 160\n",
            "total training kue lumpur images : 160\n",
            "total training kue lumpur images : 160\n",
            "total training kue lumpur images : 160\n",
            "total training kue lumpur images : 160\n",
            "total training kue lumpur images : 160\n",
            "total training bakso images : 160\n",
            "total training kue lumpur images : 160\n",
            "total training kue lumpur images : 160\n",
            "total training kue lumpur images : 160\n",
            "total training kue lumpur images : 160\n",
            "total training kue lumpur images : 20\n",
            "total training kue lumpur images : 20\n",
            "total training kue lumpur images : 20\n",
            "total training kue lumpur images : 20\n",
            "total training kue lumpur images : 20\n",
            "total training kue lumpur images : 20\n",
            "total training kue lumpur images : 20\n",
            "total training kue lumpur images : 20\n"
          ]
        }
      ]
    },
    {
      "cell_type": "code",
      "source": [
        "#Transfer Learning\n",
        "from keras.applications.vgg16 import VGG16\n",
        "model = VGG16()\n",
        "model.summary()"
      ],
      "metadata": {
        "colab": {
          "base_uri": "https://localhost:8080/"
        },
        "id": "7yoRIArRwkC9",
        "outputId": "4884b602-4341-4a96-f373-c12bb2f98188"
      },
      "execution_count": null,
      "outputs": [
        {
          "output_type": "stream",
          "name": "stdout",
          "text": [
            "Downloading data from https://storage.googleapis.com/tensorflow/keras-applications/vgg16/vgg16_weights_tf_dim_ordering_tf_kernels.h5\n",
            "553467904/553467096 [==============================] - 4s 0us/step\n",
            "553476096/553467096 [==============================] - 4s 0us/step\n",
            "Model: \"vgg16\"\n",
            "_________________________________________________________________\n",
            " Layer (type)                Output Shape              Param #   \n",
            "=================================================================\n",
            " input_1 (InputLayer)        [(None, 224, 224, 3)]     0         \n",
            "                                                                 \n",
            " block1_conv1 (Conv2D)       (None, 224, 224, 64)      1792      \n",
            "                                                                 \n",
            " block1_conv2 (Conv2D)       (None, 224, 224, 64)      36928     \n",
            "                                                                 \n",
            " block1_pool (MaxPooling2D)  (None, 112, 112, 64)      0         \n",
            "                                                                 \n",
            " block2_conv1 (Conv2D)       (None, 112, 112, 128)     73856     \n",
            "                                                                 \n",
            " block2_conv2 (Conv2D)       (None, 112, 112, 128)     147584    \n",
            "                                                                 \n",
            " block2_pool (MaxPooling2D)  (None, 56, 56, 128)       0         \n",
            "                                                                 \n",
            " block3_conv1 (Conv2D)       (None, 56, 56, 256)       295168    \n",
            "                                                                 \n",
            " block3_conv2 (Conv2D)       (None, 56, 56, 256)       590080    \n",
            "                                                                 \n",
            " block3_conv3 (Conv2D)       (None, 56, 56, 256)       590080    \n",
            "                                                                 \n",
            " block3_pool (MaxPooling2D)  (None, 28, 28, 256)       0         \n",
            "                                                                 \n",
            " block4_conv1 (Conv2D)       (None, 28, 28, 512)       1180160   \n",
            "                                                                 \n",
            " block4_conv2 (Conv2D)       (None, 28, 28, 512)       2359808   \n",
            "                                                                 \n",
            " block4_conv3 (Conv2D)       (None, 28, 28, 512)       2359808   \n",
            "                                                                 \n",
            " block4_pool (MaxPooling2D)  (None, 14, 14, 512)       0         \n",
            "                                                                 \n",
            " block5_conv1 (Conv2D)       (None, 14, 14, 512)       2359808   \n",
            "                                                                 \n",
            " block5_conv2 (Conv2D)       (None, 14, 14, 512)       2359808   \n",
            "                                                                 \n",
            " block5_conv3 (Conv2D)       (None, 14, 14, 512)       2359808   \n",
            "                                                                 \n",
            " block5_pool (MaxPooling2D)  (None, 7, 7, 512)         0         \n",
            "                                                                 \n",
            " flatten (Flatten)           (None, 25088)             0         \n",
            "                                                                 \n",
            " fc1 (Dense)                 (None, 4096)              102764544 \n",
            "                                                                 \n",
            " fc2 (Dense)                 (None, 4096)              16781312  \n",
            "                                                                 \n",
            " predictions (Dense)         (None, 1000)              4097000   \n",
            "                                                                 \n",
            "=================================================================\n",
            "Total params: 138,357,544\n",
            "Trainable params: 138,357,544\n",
            "Non-trainable params: 0\n",
            "_________________________________________________________________\n"
          ]
        }
      ]
    }
  ]
}